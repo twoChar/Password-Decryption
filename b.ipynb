{
  "cells": [
    {
      "cell_type": "code",
      "id": "import_cell",
      "metadata": {},
      "source": [
        "# PS-7 Password Generation\n",
        "# This notebook now uses the modular pipeline\n",
        "\n",
        "from password_generator import PasswordGenerator\n",
        "from pathlib import Path\n",
        "import config\n",
        "\n",
        "print('\u2713 Password generator module imported')\n",
        "print(f'\\nTo generate candidates: python pipeline.py generate')\n",
        "print(f'Or use PasswordGenerator class below.')"
      ],
      "outputs": [],
      "execution_count": null
    },
    {
      "cell_type": "code",
      "id": "demo_generation",
      "metadata": {},
      "source": [
        "# Initialize generator\n",
        "generator = PasswordGenerator(\n",
        "    Path('pcfg_of_len6_or_more.json'),\n",
        "    Path('frag_tokens_all.tsv')\n",
        ")\n",
        "\n",
        "print(f'Generator loaded with:')\n",
        "print(f'  Templates: {len(generator.top_templates)}')\n",
        "print(f'  Words: {len(generator.top_words)}')\n",
        "print(f'  Digits: {len(generator.top_digits)}')\n",
        "print(f'  Fragments: {len(generator.top_frags)}')\n",
        "\n",
        "# Generate some examples\n",
        "print('\\nExample deterministic candidates from template FRAG|DIGITS2:')\n",
        "for i, (cand, score) in enumerate(generator.generate_deterministic('FRAG|DIGITS2', max_out=10)):\n",
        "    print(f'{i+1:2}. {cand:20} (score: {score:.2f})')"
      ],
      "outputs": [],
      "execution_count": null
    }
  ],
  "metadata": {
    "kernelspec": {
      "display_name": "venv (3.13.5)",
      "language": "python",
      "name": "python3"
    },
    "language_info": {
      "codemirror_mode": {
        "name": "ipython",
        "version": 3
      },
      "file_extension": ".py",
      "mimetype": "text/x-python",
      "name": "python",
      "nbconvert_exporter": "python",
      "pygments_lexer": "ipython3",
      "version": "3.13.5"
    }
  },
  "nbformat": 4,
  "nbformat_minor": 5
}