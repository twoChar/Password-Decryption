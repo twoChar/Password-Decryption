{
  "cells": [
    {
      "cell_type": "code",
      "id": "import_cell",
      "metadata": {},
      "source": [
        "# PS-7 PCFG Model Demo\n",
        "# This notebook now uses the modular pcfg_model.py\n",
        "\n",
        "from pcfg_model import PCFGLite\n",
        "from utils import tokenize, classify_run\n",
        "from pathlib import Path\n",
        "\n",
        "print('\u2713 PCFG model module imported')\n",
        "print('\\nAll PCFG functionality is now in pcfg_model.py')\n",
        "print('See README_PIPELINE.md for usage details.')"
      ],
      "outputs": [],
      "execution_count": null
    },
    {
      "cell_type": "code",
      "id": "demo_pcfg",
      "metadata": {},
      "source": [
        "# Example: Load trained model and analyze passwords\n",
        "\n",
        "# Load the trained model\n",
        "model = PCFGLite.load('output/models/pcfg_model_ge6_state.pkl')\n",
        "print(model)\n",
        "\n",
        "# Test tokenization\n",
        "test_password = 'Password123!'\n",
        "tokens, template = tokenize(test_password)\n",
        "print(f'\\nPassword: {test_password}')\n",
        "print(f'Tokens: {tokens}')\n",
        "print(f'Template: {template}')\n",
        "print(f'Score: {model.score(test_password):.2f}')\n",
        "\n",
        "# Show top templates\n",
        "print('\\nTop 10 password templates:')\n",
        "for i, (template, count) in enumerate(model.top_templates(10), 1):\n",
        "    print(f'{i:2}. {template:30} ({count:,} occurrences)')"
      ],
      "outputs": [],
      "execution_count": null
    }
  ],
  "metadata": {
    "kernelspec": {
      "display_name": "venv (3.13.5)",
      "language": "python",
      "name": "python3"
    },
    "language_info": {
      "codemirror_mode": {
        "name": "ipython",
        "version": 3
      },
      "file_extension": ".py",
      "mimetype": "text/x-python",
      "name": "python",
      "nbconvert_exporter": "python",
      "pygments_lexer": "ipython3",
      "version": "3.13.5"
    }
  },
  "nbformat": 4,
  "nbformat_minor": 5
}