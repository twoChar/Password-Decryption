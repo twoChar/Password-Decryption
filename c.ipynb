{
  "cells": [
    {
      "cell_type": "code",
      "id": "import_cell",
      "metadata": {},
      "source": [
        "# PS-7 Password Cracking\n",
        "# This notebook now uses the modular pipeline\n",
        "\n",
        "from password_cracker import PasswordCracker, crack_single_file, crack_directory\n",
        "from pathlib import Path\n",
        "import config\n",
        "\n",
        "print('\u2713 Password cracker module imported')\n",
        "print(f'\\nTo crack files: python pipeline.py crack Mock/')\n",
        "print(f'Or use PasswordCracker class below.')"
      ],
      "outputs": [],
      "execution_count": null
    },
    {
      "cell_type": "code",
      "id": "demo_cracking",
      "metadata": {},
      "source": [
        "# Example: Crack a single file\n",
        "# Uncomment to run:\n",
        "\n",
        "# result = crack_single_file(\n",
        "#     target_file=Path('Mock/Gc_PS7_Mock_test1.docx'),\n",
        "#     candidates_file=Path('output/candidates/candidates_combined_ge6.txt'),\n",
        "#     max_tries=5000\n",
        "# )\n",
        "# print(result)\n",
        "\n",
        "# Or crack entire directory:\n",
        "# results = crack_directory(\n",
        "#     target_dir=Path('Mock'),\n",
        "#     candidates_file=Path('output/candidates/candidates_combined_ge6.txt'),\n",
        "#     results_file=Path('output/results/crack_results.csv'),\n",
        "#     max_tries=10000\n",
        "# )\n",
        "\n",
        "print('Uncomment code above to crack files.')\n",
        "print(f'\\nAvailable candidates file: output/candidates/candidates_combined_ge6.txt')\n",
        "print(f'Number of mock files: {len(list(Path(\"Mock\").glob(\"*\")))}')"
      ],
      "outputs": [],
      "execution_count": null
    }
  ],
  "metadata": {
    "kernelspec": {
      "display_name": "venv (3.13.5)",
      "language": "python",
      "name": "python3"
    },
    "language_info": {
      "codemirror_mode": {
        "name": "ipython",
        "version": 3
      },
      "file_extension": ".py",
      "mimetype": "text/x-python",
      "name": "python",
      "nbconvert_exporter": "python",
      "pygments_lexer": "ipython3",
      "version": "3.13.5"
    }
  },
  "nbformat": 4,
  "nbformat_minor": 5
}