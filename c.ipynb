{
 "cells": [
  {
   "cell_type": "code",
   "execution_count": 3,
   "id": "a02980bf",
   "metadata": {},
   "outputs": [
    {
     "name": "stdout",
     "output_type": "stream",
     "text": [
      "[1000] tried, elapsed 36.0s — last tried: bebe@loves@lms\n",
      "No password found in 1000 attempted guesses.\n",
      "Result: {'password': None, 'tries': 1000, 'time_s': 36.01758575439453}\n"
     ]
    }
   ],
   "source": [
    "import io\n",
    "import time\n",
    "from pathlib import Path\n",
    "import msoffcrypto\n",
    "\n",
    "CAND_FILE = Path(\"candidates_sto_ge12.txt\")   # file with one candidate per line\n",
    "TARGET_FILE = Path(\"Mock/Gc_PS7_Mock_test1.docx\")\n",
    "OUT_DECRYPTED = Path(\"decrypted_output.docx\")\n",
    "PRINT_EVERY = 1000        # progress print frequency\n",
    "MAX_TRIES = 1000          # set to an int to limit attempts (useful for testing); None = try all\n",
    "\n",
    "if not TARGET_FILE.exists():\n",
    "    raise FileNotFoundError(f\"Target file not found: {TARGET_FILE}\")\n",
    "\n",
    "if not CAND_FILE.exists():\n",
    "    raise FileNotFoundError(f\"Candidates file not found: {CAND_FILE}\")\n",
    "\n",
    "def try_passwords_from_file(candidate_path: Path, target_path: Path,\n",
    "                            out_decrypted_path: Path,\n",
    "                            max_tries: int = None, print_every: int = 1000):\n",
    "    start_time = time.time()\n",
    "    tried = 0\n",
    "    with candidate_path.open(\"r\", encoding=\"utf8\", errors=\"ignore\") as f:\n",
    "        for line in f:\n",
    "            if max_tries is not None and tried >= max_tries:\n",
    "                break\n",
    "            pw = line.rstrip(\"\\n\\r\")\n",
    "            if not pw:\n",
    "                continue\n",
    "            tried += 1\n",
    "\n",
    "            # Progress\n",
    "            if tried % print_every == 0:\n",
    "                elapsed = time.time() - start_time\n",
    "                print(f\"[{tried}] tried, elapsed {elapsed:.1f}s — last tried: {pw[:80]}\")\n",
    "\n",
    "            try:\n",
    "                with open(target_path, \"rb\") as tf:\n",
    "                    office_file = msoffcrypto.OfficeFile(tf)\n",
    "                    # load_key will set the password to try\n",
    "                    office_file.load_key(password=pw)\n",
    "\n",
    "                    decrypted = io.BytesIO()\n",
    "                    # Attempt decrypt — this raises on wrong password in many cases\n",
    "                    office_file.decrypt(decrypted)\n",
    "\n",
    "                    # Quick sanity check: decrypted buffer non-empty\n",
    "                    data = decrypted.getvalue()\n",
    "                    if data and len(data) > 0:\n",
    "                        # Success\n",
    "                        out_decrypted_path.write_bytes(data)\n",
    "                        print(f\"SUCCESS! Password found after {tried} tries: {pw}\")\n",
    "                        print(f\"Decrypted file written to: {out_decrypted_path.resolve()}\")\n",
    "                        return {\"password\": pw, \"tries\": tried, \"time_s\": time.time() - start_time}\n",
    "            except Exception as e:\n",
    "                # wrong password or decrypt error — continue\n",
    "                # (You can log e for debugging, but avoid flooding)\n",
    "                # Uncomment next line to debug specific exceptions:\n",
    "                # print(\"Exception:\", repr(e))\n",
    "                pass\n",
    "\n",
    "    print(f\"No password found in {tried} attempted guesses.\")\n",
    "    return {\"password\": None, \"tries\": tried, \"time_s\": time.time() - start_time}\n",
    "\n",
    "# Run it\n",
    "result = try_passwords_from_file(CAND_FILE, TARGET_FILE, OUT_DECRYPTED, max_tries=MAX_TRIES, print_every=PRINT_EVERY)\n",
    "print(\"Result:\", result)\n"
   ]
  }
 ],
 "metadata": {
  "kernelspec": {
   "display_name": "venv (3.13.5)",
   "language": "python",
   "name": "python3"
  },
  "language_info": {
   "codemirror_mode": {
    "name": "ipython",
    "version": 3
   },
   "file_extension": ".py",
   "mimetype": "text/x-python",
   "name": "python",
   "nbconvert_exporter": "python",
   "pygments_lexer": "ipython3",
   "version": "3.13.5"
  }
 },
 "nbformat": 4,
 "nbformat_minor": 5
}
