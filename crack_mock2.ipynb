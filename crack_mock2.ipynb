{
 "cells": [
  {
   "cell_type": "markdown",
   "metadata": {},
   "source": "# Password Cracking Tool for Mock2 Files\n\nThis notebook attempts to crack password-protected Office documents and PDFs using a wordlist.\n\n## Features\n- Filters passwords by length (6-12 characters)\n- Tests passwords against 25 password-protected files\n- Supports Office files (DOCX, PPTX, XLSX) and PDFs\n- Real-time progress tracking\n- Saves results to file\n\n## Password Criteria\n- **Length**: 6 to 12 characters\n- **Characters**: Alphanumeric + Symbols\n- **Patterns**: Human-like (names, dates, places)"
  },
  {
   "cell_type": "markdown",
   "metadata": {},
   "source": [
    "## 1. Install Dependencies\n",
    "\n",
    "Run this cell first to install required packages:"
   ]
  },
  {
   "cell_type": "code",
   "execution_count": null,
   "metadata": {},
   "outputs": [],
   "source": [
    "!pip install -q msoffcrypto-tool pikepdf"
   ]
  },
  {
   "cell_type": "markdown",
   "metadata": {},
   "source": [
    "## 2. Import Libraries"
   ]
  },
  {
   "cell_type": "code",
   "execution_count": null,
   "metadata": {},
   "outputs": [],
   "source": [
    "import os\n",
    "import sys\n",
    "from pathlib import Path\n",
    "from datetime import datetime\n",
    "from IPython.display import display, HTML, clear_output\n",
    "import time\n",
    "\n",
    "try:\n",
    "    import msoffcrypto\n",
    "    print(\"✓ msoffcrypto-tool installed\")\n",
    "except ImportError:\n",
    "    print(\"✗ msoffcrypto-tool NOT installed - run cell 1 above\")\n",
    "\n",
    "try:\n",
    "    import pikepdf\n",
    "    print(\"✓ pikepdf installed\")\n",
    "except ImportError:\n",
    "    print(\"✗ pikepdf NOT installed - run cell 1 above\")"
   ]
  },
  {
   "cell_type": "markdown",
   "metadata": {},
   "source": [
    "## 3. Define Password Cracker Class"
   ]
  },
  {
   "cell_type": "code",
   "execution_count": null,
   "metadata": {},
   "outputs": [],
   "source": "class PasswordCracker:\n    def __init__(self, wordlist_path, target_dir, min_length=6, max_length=12):\n        self.wordlist_path = Path(wordlist_path)\n        self.target_dir = Path(target_dir)\n        self.min_length = min_length\n        self.max_length = max_length\n        self.results = []\n        self.attempts = 0\n        self.current_file = None\n        self.current_progress = 0\n\n    def load_passwords(self):\n        \"\"\"Load passwords from wordlist file and filter by length\"\"\"\n        print(f\"📂 Loading passwords from: {self.wordlist_path.name}\")\n        print(f\"🔍 Filtering passwords: length {self.min_length}-{self.max_length} characters\")\n        try:\n            with open(self.wordlist_path, 'r', encoding='utf-8', errors='ignore') as f:\n                all_passwords = [line.strip() for line in f if line.strip()]\n            \n            # Filter by length\n            passwords = [p for p in all_passwords if self.min_length <= len(p) <= self.max_length]\n            \n            print(f\"✓ Loaded {len(all_passwords):,} total passwords\")\n            print(f\"✓ Filtered to {len(passwords):,} passwords (length {self.min_length}-{self.max_length})\")\n            print(f\"⏩ Skipped {len(all_passwords) - len(passwords):,} passwords outside length range\")\n            return passwords\n        except Exception as e:\n            print(f\"✗ Error loading wordlist: {e}\")\n            return []\n\n    def get_target_files(self):\n        \"\"\"Get all files from target directory\"\"\"\n        print(f\"\\n📁 Scanning target directory: {self.target_dir.name}\")\n        files = list(self.target_dir.glob(\"*\"))\n        office_files = [f for f in files if f.suffix.lower() in ['.docx', '.pptx', '.xlsx']]\n        pdf_files = [f for f in files if f.suffix.lower() == '.pdf']\n        print(f\"✓ Found {len(office_files)} Office files and {len(pdf_files)} PDF files\")\n        return office_files, pdf_files\n\n    def try_office_password(self, file_path, password):\n        \"\"\"Try to decrypt an Office file with given password\"\"\"\n        try:\n            with open(file_path, 'rb') as f:\n                office_file = msoffcrypto.OfficeFile(f)\n                office_file.load_key(password=password)\n                # Try to decrypt to verify password\n                with open('/dev/null', 'wb') as out:\n                    office_file.decrypt(out)\n            return True\n        except Exception:\n            return False\n\n    def try_pdf_password(self, file_path, password):\n        \"\"\"Try to open a PDF file with given password\"\"\"\n        try:\n            with pikepdf.open(file_path, password=password) as pdf:\n                return True\n        except pikepdf.PasswordError:\n            return False\n        except Exception:\n            return False\n\n    def crack_file(self, file_path, passwords):\n        \"\"\"Attempt to crack a single file\"\"\"\n        file_name = file_path.name\n        file_ext = file_path.suffix.lower()\n        self.current_file = file_name\n\n        print(f\"\\n🔐 Cracking: {file_name}\")\n        print(f\"⏳ Testing {len(passwords):,} passwords...\")\n\n        start_time = datetime.now()\n        last_update = time.time()\n\n        for idx, password in enumerate(passwords, 1):\n            self.attempts += 1\n            self.current_progress = idx\n\n            # Progress indicator every 500 attempts or every 2 seconds\n            current_time = time.time()\n            if idx % 500 == 0 or (current_time - last_update) >= 2:\n                progress_pct = (idx / len(passwords)) * 100\n                print(f\"   Progress: {idx:,}/{len(passwords):,} ({progress_pct:.1f}%) - Testing: {password[:20]}...\", end='\\r')\n                last_update = current_time\n\n            # Try the appropriate method based on file type\n            success = False\n            if file_ext in ['.docx', '.pptx', '.xlsx']:\n                success = self.try_office_password(file_path, password)\n            elif file_ext == '.pdf':\n                success = self.try_pdf_password(file_path, password)\n\n            if success:\n                elapsed = (datetime.now() - start_time).total_seconds()\n                result = {\n                    'file': file_name,\n                    'password': password,\n                    'attempts': idx,\n                    'time': elapsed\n                }\n                self.results.append(result)\n                print(f\"\\n✅ SUCCESS! Password found for {file_name}\")\n                print(f\"   🔑 Password: {password}\")\n                print(f\"   🎯 Attempts: {idx:,}\")\n                print(f\"   ⏱️  Time: {elapsed:.2f} seconds\")\n                return True\n\n        elapsed = (datetime.now() - start_time).total_seconds()\n        print(f\"\\n❌ Failed to crack {file_name} after {len(passwords):,} attempts ({elapsed:.2f}s)\")\n        return False\n\n    def run(self):\n        \"\"\"Main execution method\"\"\"\n        print(\"=\"*70)\n        print(\"🔓 Password Cracking Tool - Mock2 Files\")\n        print(\"=\"*70)\n\n        # Load passwords\n        passwords = self.load_passwords()\n        if not passwords:\n            print(\"❌ No passwords loaded!\")\n            return\n\n        # Get target files\n        office_files, pdf_files = self.get_target_files()\n        all_files = office_files + pdf_files\n\n        if not all_files:\n            print(\"❌ No files found to crack!\")\n            return\n\n        print(f\"\\n🚀 Starting crack attempt on {len(all_files)} files...\")\n        print(f\"📊 Total combinations: {len(passwords):,} passwords × {len(all_files)} files = {len(passwords) * len(all_files):,}\")\n\n        start_time = datetime.now()\n\n        # Try to crack each file\n        for file_path in all_files:\n            self.crack_file(file_path, passwords)\n\n        # Summary\n        total_time = (datetime.now() - start_time).total_seconds()\n        print(\"\\n\" + \"=\"*70)\n        print(\"📋 SUMMARY\")\n        print(\"=\"*70)\n        print(f\"Total files tested: {len(all_files)}\")\n        print(f\"✅ Successfully cracked: {len(self.results)}\")\n        print(f\"❌ Failed to crack: {len(all_files) - len(self.results)}\")\n        print(f\"🔢 Total attempts: {self.attempts:,}\")\n        print(f\"⏱️  Total time: {total_time:.2f} seconds ({total_time/60:.1f} minutes)\")\n\n        if self.results:\n            print(\"\\n\" + \"=\"*70)\n            print(\"🎉 CRACKED FILES\")\n            print(\"=\"*70)\n            for i, result in enumerate(self.results, 1):\n                print(f\"\\n{i}. File: {result['file']}\")\n                print(f\"   🔑 Password: {result['password']}\")\n                print(f\"   🎯 Attempts: {result['attempts']:,}\")\n                print(f\"   ⏱️  Time: {result['time']:.2f}s\")\n\n            # Save results to file\n            output_file = Path.cwd() / 'cracked_passwords.txt'\n            with open(output_file, 'w') as f:\n                f.write(\"Cracked Passwords - Mock2 Files\\n\")\n                f.write(\"=\"*70 + \"\\n\")\n                f.write(f\"Date: {datetime.now().strftime('%Y-%m-%d %H:%M:%S')}\\n\\n\")\n                for result in self.results:\n                    f.write(f\"File: {result['file']}\\n\")\n                    f.write(f\"Password: {result['password']}\\n\")\n                    f.write(f\"Attempts: {result['attempts']:,}\\n\")\n                    f.write(f\"Time: {result['time']:.2f}s\\n\\n\")\n            print(f\"\\n💾 Results saved to: {output_file}\")\n        else:\n            print(\"\\n⚠️  No files were cracked. The passwords may not be in the wordlist.\")\n\n        print(\"=\"*70)\n\nprint(\"✓ PasswordCracker class defined\")"
  },
  {
   "cell_type": "markdown",
   "metadata": {},
   "source": [
    "## 4. Configure Paths"
   ]
  },
  {
   "cell_type": "code",
   "execution_count": null,
   "metadata": {},
   "outputs": [],
   "source": [
    "# Set paths\n",
    "WORDLIST = \"/home/tu-mbg/Documents/cc-show-around/PD/Password-Decryption/indian-wordlist/all-indian.txt\"\n",
    "TARGET_DIR = \"/home/tu-mbg/Documents/cc-show-around/PD/Password-Decryption/Files/Mock2\"\n",
    "\n",
    "# Verify paths exist\n",
    "if Path(WORDLIST).exists():\n",
    "    print(f\"✓ Wordlist found: {Path(WORDLIST).name}\")\n",
    "else:\n",
    "    print(f\"✗ Wordlist not found: {WORDLIST}\")\n",
    "\n",
    "if Path(TARGET_DIR).exists():\n",
    "    file_count = len(list(Path(TARGET_DIR).glob(\"*\")))\n",
    "    print(f\"✓ Target directory found: {Path(TARGET_DIR).name} ({file_count} files)\")\n",
    "else:\n",
    "    print(f\"✗ Target directory not found: {TARGET_DIR}\")"
   ]
  },
  {
   "cell_type": "markdown",
   "metadata": {},
   "source": "## 5. Run Password Cracker\n\n⚠️ **Note**: This may take 5-15 minutes depending on your system.\n\n**Password Requirements:**\n- Length: 6 to 12 characters\n- Characters: Alphanumeric + Symbols\n- Patterns: Human-like (names, dates, places)\n\nThe script will:\n- Filter passwords to only test length 6-12 characters\n- Test filtered passwords against 25 files\n- Show progress updates every 500 passwords\n- Display results immediately when passwords are found"
  },
  {
   "cell_type": "code",
   "execution_count": null,
   "metadata": {},
   "outputs": [],
   "source": "# Create and run cracker with password length filter (6-12 characters)\ncracker = PasswordCracker(WORDLIST, TARGET_DIR, min_length=6, max_length=12)\ncracker.run()"
  },
  {
   "cell_type": "markdown",
   "metadata": {},
   "source": [
    "## 6. View Results (Optional)\n",
    "\n",
    "Display cracked passwords if any were found:"
   ]
  },
  {
   "cell_type": "code",
   "execution_count": null,
   "metadata": {},
   "outputs": [],
   "source": [
    "# Check if results file exists\n",
    "results_file = Path.cwd() / 'cracked_passwords.txt'\n",
    "\n",
    "if results_file.exists():\n",
    "    print(\"📄 Reading cracked_passwords.txt:\\n\")\n",
    "    with open(results_file, 'r') as f:\n",
    "        print(f.read())\n",
    "else:\n",
    "    print(\"ℹ️  No results file found. Run the cracker first (cell 5).\")"
   ]
  }
 ],
 "metadata": {
  "kernelspec": {
   "display_name": "Python 3",
   "language": "python",
   "name": "python3"
  },
  "language_info": {
   "codemirror_mode": {
    "name": "ipython",
    "version": 3
   },
   "file_extension": ".py",
   "mimetype": "text/x-python",
   "name": "python",
   "nbconvert_exporter": "python",
   "pygments_lexer": "ipython3",
   "version": "3.8.0"
  }
 },
 "nbformat": 4,
 "nbformat_minor": 4
}