{
 "cells": [
  {
   "cell_type": "code",
   "execution_count": null,
   "id": "61a1d6a4",
   "metadata": {},
   "outputs": [],
   "source": "# PS-7 Password Cracking - Training Pipeline\n# This notebook now uses the modular pipeline. For full functionality, use: python ../scripts/pipeline.py\n\nimport sys\nfrom pathlib import Path\n\n# Add src to path\nsys.path.insert(0, str(Path.cwd().parent / 'src'))\n\nfrom src.models.pcfg_model import train_pcfg_model, extract_frag_tokens, save_snapshot, PCFGLite\nfrom src import config\n\nprint(\"✓ Modular pipeline imported successfully!\")\nprint(f\"\\nTo run full training: python ../scripts/pipeline.py train --data Data-Breach/rockyou.txt\")\nprint(f\"Or use functions from this notebook interactively.\")\nprint(f\"\\nData path: {config.DATA_PATH}\")\nprint(f\"Min password length: {config.MIN_PASSWORD_LENGTH}\")"
  },
  {
   "cell_type": "code",
   "id": "demo_usage",
   "metadata": {},
   "source": "# Example: Train model programmatically\n# Uncomment to run:\n\n# model = train_pcfg_model(\n#     config.DATA_PATH,\n#     min_len=config.MIN_PASSWORD_LENGTH,\n#     output_path=config.MODELS_DIR / config.MODEL_GE6\n# )\n\n# Or load existing model:\nfrom src.models.pcfg_model import PCFGLite\nfrom src import config\n\nmodel = PCFGLite.load(config.MODELS_DIR / config.MODEL_GE6)\nprint(model)\n\n# Score some passwords\ntest_passwords = ['password123', 'admin', 'qwerty456', 'MyP@ssw0rd!']\nfor pw in test_passwords:\n    score = model.score(pw)\n    print(f'{pw:20} -> score: {score:.2f}')",
   "outputs": [],
   "execution_count": null
  }
 ],
 "metadata": {
  "kernelspec": {
   "display_name": "venv (3.13.5)",
   "language": "python",
   "name": "python3"
  },
  "language_info": {
   "codemirror_mode": {
    "name": "ipython",
    "version": 3
   },
   "file_extension": ".py",
   "mimetype": "text/x-python",
   "name": "python",
   "nbconvert_exporter": "python",
   "pygments_lexer": "ipython3",
   "version": "3.13.5"
  }
 },
 "nbformat": 4,
 "nbformat_minor": 5
}