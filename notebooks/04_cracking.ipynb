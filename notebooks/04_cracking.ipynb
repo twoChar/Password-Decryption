{
 "cells": [
  {
   "cell_type": "code",
   "id": "import_cell",
   "metadata": {},
   "source": "# PS-7 Password Cracking\n# This notebook now uses the modular pipeline\n\nimport sys\nfrom pathlib import Path\n\n# Add src to path\nsys.path.insert(0, str(Path.cwd().parent / 'src'))\n\nfrom src.crackers.password_cracker import PasswordCracker, crack_single_file, crack_directory\nfrom src import config\n\nprint('✓ Password cracker module imported')\nprint(f'\\nTo crack files: python ../scripts/pipeline.py crack tests/mock/')\nprint(f'Or use PasswordCracker class below.')",
   "outputs": [],
   "execution_count": null
  },
  {
   "cell_type": "code",
   "id": "demo_cracking",
   "metadata": {},
   "source": "# Example: Crack a single file\n# Uncomment to run:\n\nfrom src import config\n\n# result = crack_single_file(\n#     target_file=config.MOCK_DIR / 'Gc_PS7_Mock_test1.docx',\n#     candidates_file=config.CANDIDATES_COMBINED,\n#     max_tries=5000\n# )\n# print(result)\n\n# Or crack entire directory:\n# results = crack_directory(\n#     target_dir=config.MOCK_DIR,\n#     candidates_file=config.CANDIDATES_COMBINED,\n#     results_file=config.RESULTS_DIR / 'crack_results.csv',\n#     max_tries=10000\n# )\n\nprint('Uncomment code above to crack files.')\nprint(f'\\nAvailable candidates file: {config.CANDIDATES_COMBINED}')\nprint(f'Mock directory: {config.MOCK_DIR}')\nif config.MOCK_DIR.exists():\n    print(f'Number of mock files: {len(list(config.MOCK_DIR.glob(\"*\")))}')",
   "outputs": [],
   "execution_count": null
  }
 ],
 "metadata": {
  "kernelspec": {
   "display_name": "venv (3.13.5)",
   "language": "python",
   "name": "python3"
  },
  "language_info": {
   "codemirror_mode": {
    "name": "ipython",
    "version": 3
   },
   "file_extension": ".py",
   "mimetype": "text/x-python",
   "name": "python",
   "nbconvert_exporter": "python",
   "pygments_lexer": "ipython3",
   "version": "3.13.5"
  }
 },
 "nbformat": 4,
 "nbformat_minor": 5
}