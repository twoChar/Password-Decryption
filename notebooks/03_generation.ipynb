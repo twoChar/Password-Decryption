{
 "cells": [
  {
   "cell_type": "code",
   "id": "import_cell",
   "metadata": {},
   "source": "# PS-7 Password Generation\n# This notebook now uses the modular pipeline\n\nimport sys\nfrom pathlib import Path\n\n# Add src to path\nsys.path.insert(0, str(Path.cwd().parent / 'src'))\n\nfrom src.generators.password_generator import PasswordGenerator\nfrom src import config\n\nprint('✓ Password generator module imported')\nprint(f'\\nTo generate candidates: python ../scripts/pipeline.py generate')\nprint(f'Or use PasswordGenerator class below.')",
   "outputs": [],
   "execution_count": null
  },
  {
   "cell_type": "code",
   "id": "demo_generation",
   "metadata": {},
   "source": "# Initialize generator\nfrom src import config\n\ngenerator = PasswordGenerator(\n    config.SNAPSHOT_GE6,\n    config.FRAG_TOKENS_ALL\n)\n\nprint(f'Generator loaded with:')\nprint(f'  Templates: {len(generator.top_templates)}')\nprint(f'  Words: {len(generator.top_words)}')\nprint(f'  Digits: {len(generator.top_digits)}')\nprint(f'  Fragments: {len(generator.top_frags)}')\n\n# Generate some examples\nprint('\\nExample deterministic candidates from template FRAG|DIGITS2:')\nfor i, (cand, score) in enumerate(generator.generate_deterministic('FRAG|DIGITS2', max_out=10)):\n    print(f'{i+1:2}. {cand:20} (score: {score:.2f})')",
   "outputs": [],
   "execution_count": null
  }
 ],
 "metadata": {
  "kernelspec": {
   "display_name": "venv (3.13.5)",
   "language": "python",
   "name": "python3"
  },
  "language_info": {
   "codemirror_mode": {
    "name": "ipython",
    "version": 3
   },
   "file_extension": ".py",
   "mimetype": "text/x-python",
   "name": "python",
   "nbconvert_exporter": "python",
   "pygments_lexer": "ipython3",
   "version": "3.13.5"
  }
 },
 "nbformat": 4,
 "nbformat_minor": 5
}