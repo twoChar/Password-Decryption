{
 "cells": [
  {
   "cell_type": "code",
   "id": "import_cell",
   "metadata": {},
   "source": "# PS-7 PCFG Model Demo\n# This notebook now uses the modular pcfg_model.py\n\nimport sys\nfrom pathlib import Path\n\n# Add src to path\nsys.path.insert(0, str(Path.cwd().parent / 'src'))\n\nfrom src.models.pcfg_model import PCFGLite\nfrom src.utils import tokenize, classify_run\nfrom src import config\n\nprint('✓ PCFG model module imported')\nprint('\\nAll PCFG functionality is now in src/models/pcfg_model.py')\nprint('See docs/PIPELINE.md for usage details.')",
   "outputs": [],
   "execution_count": null
  },
  {
   "cell_type": "code",
   "id": "demo_pcfg",
   "metadata": {},
   "source": "# Example: Load trained model and analyze passwords\nfrom src import config\n\n# Load the trained model\nmodel = PCFGLite.load(config.MODELS_DIR / config.MODEL_GE6)\nprint(model)\n\n# Test tokenization\nfrom src.utils import tokenize\ntest_password = 'Password123!'\ntokens, template = tokenize(test_password)\nprint(f'\\nPassword: {test_password}')\nprint(f'Tokens: {tokens}')\nprint(f'Template: {template}')\nprint(f'Score: {model.score(test_password):.2f}')\n\n# Show top templates\nprint('\\nTop 10 password templates:')\nfor i, (template, count) in enumerate(model.top_templates(10), 1):\n    print(f'{i:2}. {template:30} ({count:,} occurrences)')",
   "outputs": [],
   "execution_count": null
  }
 ],
 "metadata": {
  "kernelspec": {
   "display_name": "venv (3.13.5)",
   "language": "python",
   "name": "python3"
  },
  "language_info": {
   "codemirror_mode": {
    "name": "ipython",
    "version": 3
   },
   "file_extension": ".py",
   "mimetype": "text/x-python",
   "name": "python",
   "nbconvert_exporter": "python",
   "pygments_lexer": "ipython3",
   "version": "3.13.5"
  }
 },
 "nbformat": 4,
 "nbformat_minor": 5
}